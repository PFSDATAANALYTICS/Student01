{
 "cells": [
  {
   "attachments": {},
   "cell_type": "markdown",
   "metadata": {},
   "source": [
    "# Tech Training\n",
    "## How to perform Exploratory Data Analysis on Snowpark DataFrames\n",
    "\n",
    "In this section, we will perform a set of transformations including importing datasets, aggregations and joining two dataframes.\n",
    "\n",
    "First, let's import all the functions we will need."
   ]
  },
  {
   "cell_type": "code",
   "execution_count": null,
   "metadata": {},
   "outputs": [],
   "source": [
    "from snowflake.snowpark.functions import month,year,col,sum"
   ]
  },
  {
   "attachments": {},
   "cell_type": "markdown",
   "metadata": {},
   "source": [
    "Second, let`s import the two tables that we will need. "
   ]
  },
  {
   "cell_type": "code",
   "execution_count": null,
   "metadata": {},
   "outputs": [],
   "source": [
    "# How to use it\n",
    "dataframe_name = session.table('DB_NAME.SCHEMA_NAME.TABLE_NAME')\\\n",
    "\t\t\t\t\t\t\t\t\t\t\t  .select([\n",
    "\t\t\t\t\t\t\t\t\t\t\t\t\t   'col_name',\n",
    "\t\t\t\t\t\t\t\t\t\t\t\t\t   'col_name'\n",
    "\t\t\t\t\t\t\t\t\t\t\t\t\t  ])\n",
    "\n",
    "# Define the cols we want\n",
    "table_cols = [\n",
    "\t\t'cols_1',\n",
    "\t\t'cols_2',\n",
    "\t\tcol('cols_2').name('New_Col_Name'),\n",
    "\t\tcol('string_to_numeric_value').try_cast(IntegerType()).name('New_Col_Name_1'),\n",
    "\t\tcol('Date_to_Datetime').cast(TimestampType()).name('New_Col_Name_2'),\n",
    "\t\tcol('Datetime_to_Date').cast(DateType()).name('New')\n",
    "\t\n",
    "]\n",
    "\n",
    "# Simplyfiy the code\n",
    "df_table_name = session.table('DB_NAME.SCHEMA_NAME.TABLE_NAME')\\\n",
    "\t\t\t\t\t\t\t\t\t\t\t .select(table_cols)"
   ]
  },
  {
   "attachments": {},
   "cell_type": "markdown",
   "metadata": {},
   "source": [
    "PRACTICE EXAM - SESSION I\n",
    "\n",
    "- Define the columns that we want:\n",
    "    - Application: We want to have:\n",
    "        - UUID\n",
    "        - SUBMIT_DT\n",
    "        - PRODUCT_NAME\n",
    "    - Passport_Info: we want to have:\n",
    "        - UUID\n",
    "        - Type_Visa\n",
    "- Import two tables into Jupyter Notebook"
   ]
  },
  {
   "attachments": {},
   "cell_type": "markdown",
   "metadata": {},
   "source": [
    "Third, let`s put some filtering in the code to pick up the columns based on the conditions"
   ]
  },
  {
   "cell_type": "code",
   "execution_count": null,
   "metadata": {},
   "outputs": [],
   "source": [
    "# How to use it?\n",
    "new_dataframe_name = dataframe_name.filter(col('Col_Name')<Condition Here>)\n",
    "\n",
    "# Condition List:\n",
    "Greate than: > \n",
    "Less than: <\n",
    "Greath than or equal to: >=\n",
    "Less than or equal to: <=\n",
    "not equal to: != \n",
    "removing null values: .isNotNull()\n",
    "finding null values: .isNull()"
   ]
  },
  {
   "attachments": {},
   "cell_type": "markdown",
   "metadata": {},
   "source": [
    "PRACTICE EXAM - SESSION II\n",
    "\n",
    "- Playing with filter() + the conditions which mentioned above to see what will happen\n",
    "- For the Application table, I only want to pick up all the application who has purchased the product and the application is between “2021-07-01” and “2021-07-31”"
   ]
  },
  {
   "attachments": {},
   "cell_type": "markdown",
   "metadata": {},
   "source": [
    "Foutrh, let`s join two temp tables to get the final table"
   ]
  },
  {
   "cell_type": "code",
   "execution_count": null,
   "metadata": {},
   "outputs": [],
   "source": [
    "# How to use it?\n",
    "## Let`s assume that you have a table A - Employee_Name and table B - Role\n",
    "#----------------         ------------------  \n",
    "#Name Employee_Id         Employee_Id Role\n",
    "#----------------         ------------------  \n",
    "#Lee      1                     2    Manager\n",
    "#Tom      2                     3    Teacher\n",
    "#Bob      3               ------------------\n",
    "#-----------------\n",
    "\n",
    "## You want to see their role for each person\n",
    "emp_role = employee_name.join(role, employee_name.employee_id == role.employee_id,'left')\\\n",
    "\t\t\t\t\t\t.select(['Name', 'Role'])\n",
    "\n",
    "## So the function is here:\n",
    "new_dataframe_name = table_A.join(table_B,table_A.pk == table_B.fk, 'left/right/inner')"
   ]
  },
  {
   "attachments": {},
   "cell_type": "markdown",
   "metadata": {},
   "source": [
    "PRACTICE EXAM - SESSION III\n",
    "\n",
    "- You want to do the left join between applicatio and passport_info by uuid, and select all columns, and name the new dataframe as “df_apps_passport”"
   ]
  },
  {
   "attachments": {},
   "cell_type": "markdown",
   "metadata": {},
   "source": [
    "Fifth, let`s create a new column, called sum and group by type_visa. I want to the number for each type_visa"
   ]
  },
  {
   "cell_type": "code",
   "execution_count": null,
   "metadata": {},
   "outputs": [],
   "source": [
    "# How to create a new column\n",
    "new_dataframe_name = dataframe_name.withColumn('New_Col_Name', \n",
    "\t\t\t\t\t\t\t\t\t\t\t\t<conditions here>)\n",
    "\n",
    "# How to do this? Some example below:\n",
    "## Rename the old col to new_col\n",
    "new_dataframe_name = dataframe_name.withColumn('New_Col_Name', \n",
    "\t\t\t\t\t\t\t\t\t\t\t\tcol('Old_Col_Name'))\n",
    "\n",
    "## Assign a string to this col\n",
    "new_dataframe_name = dataframe_name.withColumn('New_Col_Name', \n",
    "\t\t\t\t\t\t\t\t\t\t\t\t'this_string')\n",
    "\n",
    "## Assign a number to this col\n",
    "new_dataframe_name = dataframe_name.withColumn('New_Col_Name', \n",
    "\t\t\t\t\t\t\t\t\t\t\t\tlit('number'))\n",
    "\n",
    "## Implement Case when function in Snowpark Python\n",
    "new_dataframe_name = dataframe_name.withColumn('New_Col_Name', \n",
    "\t\t\t\t\t\t\t\t\t\t\t\twhen(<Conditon Here>, \n",
    "\t\t\t\t\t\t\t\t\t\t\t\t\t\t\t\t\t<New_Value_Here>)\\\n",
    "\t\t\t\t\t\t\t\t\t\t\t\t.otherwise(<New_Value_Here>)\n",
    "\n",
    "## Implement many if-then-else in Snowpark Python\n",
    "new_dataframe_name = dataframe_name.withColumn('New_Col_Name', \n",
    "\t\t\t\t\t\t\t\t\t\t\t\twhen(<Conditon Here>, \n",
    "\t\t\t\t\t\t\t\t\t\t\t\t     <New_Value_Here>)\\\n",
    "\t\t\t\t\t\t\t\t\t\t\t\t.when(<Conditon Here>,\n",
    "\t\t\t\t\t\t\t\t\t\t\t\t\t  <New_Value_Here>)\\\n",
    "\t\t\t\t\t\t\t\t\t\t\t    .otherwise(<New_Value_Here>\n",
    "\n"
   ]
  },
  {
   "attachments": {},
   "cell_type": "markdown",
   "metadata": {},
   "source": [
    "PRACTICE EXAM - SESSION IV\n",
    "\n",
    "- Can you create a new column called visa_status, the condition will be: if the “Visa_Type” is null, resign “N/A” to it, otherwise retain the original values of “Visa_Type”? Please do remember to drop “Visa_Type” as we don`t need it anymore\n",
    "\n",
    "Sixth, let`s calculate the aggregation function to see the number for each visa_status"
   ]
  },
  {
   "cell_type": "code",
   "execution_count": null,
   "metadata": {},
   "outputs": [],
   "source": [
    "# How to use it?\n",
    "new_dataframe_name = dataframe_name.groupBy('Target_Col_Name')\\\n",
    "\t\t\t\t\t\t\t\t\t\t\t.agg(count/max/sum/min/avg('col_name'))\\\n",
    "\t\t\t\t\t\t\t\t\t\t\t.name('new_col_name')"
   ]
  },
  {
   "attachments": {},
   "cell_type": "markdown",
   "metadata": {},
   "source": [
    "PRACTICE EXAM - SESSION V\n",
    "\n",
    "- Can you check the number for each visa_status and rename the it to “VisaTypeCount”"
   ]
  },
  {
   "attachments": {},
   "cell_type": "markdown",
   "metadata": {},
   "source": []
  }
 ],
 "metadata": {
  "kernelspec": {
   "display_name": "Python 3",
   "language": "python",
   "name": "python3"
  },
  "language_info": {
   "name": "python",
   "version": "3.9.6"
  },
  "orig_nbformat": 4
 },
 "nbformat": 4,
 "nbformat_minor": 2
}
