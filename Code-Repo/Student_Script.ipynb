{
 "cells": [
  {
   "attachments": {},
   "cell_type": "markdown",
   "metadata": {},
   "source": [
    "# Root Cause Analysis of Hardware Decision Making System"
   ]
  },
  {
   "attachments": {},
   "cell_type": "markdown",
   "metadata": {},
   "source": [
    "## Introduction\n",
    "### This project has three milestones:\n",
    "- Milestone I: Root cause analysis of why the manual orders has been increased \n",
    "    - Subtask a: Check about the # of manual queue and automation queue from Jul/21 to Sep/21\n",
    "    - Subtask b: Check about the # of high-frequency alert codes from Jul/21 to Sep/21\n",
    "- Milestone II: After providing the data-driven solutions, keep tracking the # of manual and automation queues and # of alert codes\n",
    "    - Subtask a: Check about the # of manual queue and automation queue from Oct/21 to Jan/22\n",
    "    - Subtask b: Check about the # of high-frequency alert codes from Oct/21 to Jan/22\n",
    "    - Subtask c: Implement automation process - Crontab\n",
    "- Milestone III: Apply Power BI to connect to the source data for automatically monitoring\n",
    "    - Subtask a: Implement automation process for updating source data \n",
    "    - Subtask b: Build the connection between PBI and source data\n",
    "    - Subtask c: Set up Email notification process"
   ]
  },
  {
   "attachments": {},
   "cell_type": "markdown",
   "metadata": {},
   "source": [
    "## PART ONE: CREATE THE CONNECTION TO SNOWFLAKE AND USE SNOWPARK"
   ]
  },
  {
   "attachments": {},
   "cell_type": "markdown",
   "metadata": {},
   "source": [
    "#### Import Packages:\n",
    "- Snowpark API:\n",
    "    - Snowpark Functions: snowflake.snowpark.functions\n",
    "    - Snowpark API: snowflake.snowpark\n",
    "    - Pandas\n",
    "    - Datetime "
   ]
  },
  {
   "cell_type": "code",
   "execution_count": null,
   "metadata": {},
   "outputs": [],
   "source": [
    "# import packages\n",
    "\n",
    "from snowflake.snowpark.functions import *\n",
    "from snowflake.snowpark import Session\n",
    "import pandas as pd"
   ]
  },
  {
   "attachments": {},
   "cell_type": "markdown",
   "metadata": {},
   "source": [
    "#### Set up the Configuration:\n",
    "```\n",
    "connection_parameters = {\n",
    "...    \"account\": \"<your snowflake account>\",\n",
    "...    \"user\": \"<your snowflake user>\",\n",
    "...    \"password\": \"<your snowflake password>\",\n",
    "...    \"role\": \"<your snowflake role>\",  # optional\n",
    "...    \"warehouse\": \"<your snowflake warehouse>\",  # optional\n",
    "...    \"database\": \"<your snowflake database>\",  # optional\n",
    "...    \"schema\": \"<your snowflake schema>\",  # optional\n",
    "...  }  \n",
    "```\n",
    "```\n",
    "session = Session.builder.configs(connection_parameters).create()\n",
    "```\n",
    "\n",
    "#### Please contact project owner for getting account and password information"
   ]
  },
  {
   "attachments": {},
   "cell_type": "markdown",
   "metadata": {},
   "source": [
    "## PART TWO: EXPLORT THE DATA "
   ]
  },
  {
   "cell_type": "code",
   "execution_count": null,
   "metadata": {},
   "outputs": [],
   "source": [
    "# Take a look about the Table - Application"
   ]
  },
  {
   "cell_type": "code",
   "execution_count": null,
   "metadata": {},
   "outputs": [],
   "source": [
    "# Take a look about the Table - Alert_Info"
   ]
  },
  {
   "cell_type": "code",
   "execution_count": null,
   "metadata": {},
   "outputs": [],
   "source": [
    "# Take a look about the Table - Queue_Info"
   ]
  },
  {
   "attachments": {},
   "cell_type": "markdown",
   "metadata": {},
   "source": [
    "#### Milestone I: Rootcause analysis of why the # of manual queues has been increased"
   ]
  },
  {
   "cell_type": "code",
   "execution_count": null,
   "metadata": {},
   "outputs": [],
   "source": [
    "# Get the master table - Application"
   ]
  },
  {
   "cell_type": "code",
   "execution_count": null,
   "metadata": {},
   "outputs": [],
   "source": [
    "# Only look at device-only orders\n",
    "# Assign a device flag to the application table to indicate who has a device"
   ]
  },
  {
   "cell_type": "code",
   "execution_count": null,
   "metadata": {},
   "outputs": [],
   "source": [
    "# Get the Alert_info Table"
   ]
  },
  {
   "cell_type": "code",
   "execution_count": null,
   "metadata": {},
   "outputs": [],
   "source": [
    "# For the alert info table, only look at 'Decline-Pending', 'Refer', 'BiometricsRequired', 'Decline', 'Refer-Pending'\n"
   ]
  },
  {
   "cell_type": "code",
   "execution_count": null,
   "metadata": {},
   "outputs": [],
   "source": [
    "# select alert_code from alert_info to left join into master data"
   ]
  },
  {
   "cell_type": "code",
   "execution_count": null,
   "metadata": {},
   "outputs": [],
   "source": [
    "# Take a look about the # of alert code by month"
   ]
  },
  {
   "cell_type": "code",
   "execution_count": null,
   "metadata": {},
   "outputs": [],
   "source": [
    "# get the alert_code_desc based on the code_desc introduction\n",
    "# create a new column for storing code descrption "
   ]
  },
  {
   "cell_type": "code",
   "execution_count": null,
   "metadata": {},
   "outputs": [],
   "source": [
    "# Get the Queue_Info table\n",
    "# select queue_id from queue_info to left join into master data\n"
   ]
  },
  {
   "cell_type": "code",
   "execution_count": null,
   "metadata": {},
   "outputs": [],
   "source": [
    "# When Queue_id in 'Bureau Error Queue Dealer',\n",
    "                    # 'Bureau Error Queue NonDealer',\n",
    "                    # 'Customer Enrichment Queue',\n",
    "                    # 'Final Refer Queue Dealer',\n",
    "                    # 'Final Refer Queue Nondealer',\n",
    "                    # 'No ID Queue','Online Automation Queue',\n",
    "                    # 'BUREAU ERROR QUEUE',\n",
    "                    # 'IDENTIFICATION ERROR QUEUE'\n",
    "                    # ] \n",
    "# They are called manual queue\n",
    "# When queue_id not in above then, it is called automation queue"
   ]
  },
  {
   "cell_type": "code",
   "execution_count": null,
   "metadata": {},
   "outputs": [],
   "source": [
    "# Check the # of queue type by month"
   ]
  },
  {
   "attachments": {},
   "cell_type": "markdown",
   "metadata": {},
   "source": [
    "## Good Job, you`ve finished the milestone I"
   ]
  },
  {
   "attachments": {},
   "cell_type": "markdown",
   "metadata": {},
   "source": [
    "#### Milestone II: After providing the data-driven solutions, keep tracking the # of manual and automation queues and # of alert codes"
   ]
  },
  {
   "cell_type": "code",
   "execution_count": null,
   "metadata": {},
   "outputs": [],
   "source": [
    "# Import Datetime"
   ]
  },
  {
   "cell_type": "code",
   "execution_count": null,
   "metadata": {},
   "outputs": [],
   "source": [
    "# Simplyfy the code and create a function to contain all the codes for automation process and includes the file output path inside"
   ]
  },
  {
   "attachments": {},
   "cell_type": "markdown",
   "metadata": {},
   "source": [
    "## Good Job, you`ve finished the milestone II"
   ]
  }
 ],
 "metadata": {
  "kernelspec": {
   "display_name": "Python 3",
   "language": "python",
   "name": "python3"
  },
  "language_info": {
   "name": "python",
   "version": "3.9.6"
  },
  "orig_nbformat": 4
 },
 "nbformat": 4,
 "nbformat_minor": 2
}
